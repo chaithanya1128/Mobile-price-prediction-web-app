{
 "cells": [
  {
   "cell_type": "code",
   "execution_count": 1,
   "id": "d638f7a6-6b4b-49ce-9060-08077aa111fc",
   "metadata": {},
   "outputs": [],
   "source": [
    "# Import the libraies\n",
    "import numpy as np\n",
    "from flask import Flask, request, render_template\n",
    "import joblib"
   ]
  },
  {
   "cell_type": "code",
   "execution_count": 2,
   "id": "250fb055-7e56-4a6f-9665-6c97ed61618e",
   "metadata": {},
   "outputs": [
    {
     "name": "stderr",
     "output_type": "stream",
     "text": [
      "c:\\Users\\m vishnu harsha\\anaconda3\\lib\\site-packages\\scipy\\__init__.py:146: UserWarning: A NumPy version >=1.16.5 and <1.23.0 is required for this version of SciPy (detected version 1.26.2\n",
      "  warnings.warn(f\"A NumPy version >={np_minversion} and <{np_maxversion}\"\n"
     ]
    }
   ],
   "source": [
    "# Create the Flask app and load the trained model\n",
    "app = Flask(__name__)\n",
    "model = joblib.load('models/price_prediction_rf.pkl')"
   ]
  },
  {
   "cell_type": "code",
   "execution_count": 3,
   "id": "d655549e-8044-47be-a3d4-7102fc1bf949",
   "metadata": {},
   "outputs": [],
   "source": [
    "# Define the '/' root route to display the content from index.html\n",
    "@app.route('/')\n",
    "def home():\n",
    "    return render_template('index.html')"
   ]
  },
  {
   "cell_type": "code",
   "execution_count": 4,
   "id": "8120d15c-dafd-4a4a-9ab8-a44d6ab3e786",
   "metadata": {},
   "outputs": [],
   "source": [
    "# Define the '/predict' route to:\n",
    "# - Get form data and convert them to float values\n",
    "# - Convert form data to numpy array\n",
    "# - Pass form data to model for prediction\n",
    "\n",
    "@app.route('/predict',methods=['POST'])\n",
    "def predict():\n",
    "\n",
    "    form_data = [x for x in request.form.values()]\n",
    "    features = [np.array(form_data)]\n",
    "    prediction = model.predict(features)\n",
    "\n",
    "\t# Format prediction text for display in \"index.html\"\n",
    "    return render_template('index.html', mp ='Moblile price range should be {}'.format(round(prediction[0])))"
   ]
  },
  {
   "cell_type": "code",
   "execution_count": 5,
   "id": "b6de1107-574b-478c-be6d-6709f374a155",
   "metadata": {},
   "outputs": [
    {
     "name": "stdout",
     "output_type": "stream",
     "text": [
      " * Serving Flask app '__main__'\n",
      " * Debug mode: off\n"
     ]
    },
    {
     "name": "stderr",
     "output_type": "stream",
     "text": [
      "WARNING: This is a development server. Do not use it in a production deployment. Use a production WSGI server instead.\n",
      " * Running on http://127.0.0.1:5000\n",
      "Press CTRL+C to quit\n",
      "127.0.0.1 - - [08/Dec/2023 07:56:39] \"GET / HTTP/1.1\" 200 -\n",
      "127.0.0.1 - - [08/Dec/2023 07:56:41] \"GET /static/images/step1.jpeg HTTP/1.1\" 200 -\n",
      "127.0.0.1 - - [08/Dec/2023 07:56:41] \"GET /static/images/phones.png HTTP/1.1\" 200 -\n",
      "127.0.0.1 - - [08/Dec/2023 07:56:41] \"GET /static/main.css HTTP/1.1\" 200 -\n",
      "127.0.0.1 - - [08/Dec/2023 07:56:42] \"GET /static/images/step2.jpeg HTTP/1.1\" 200 -\n",
      "127.0.0.1 - - [08/Dec/2023 07:56:42] \"GET /static/images/step3.jpeg HTTP/1.1\" 200 -\n",
      "127.0.0.1 - - [08/Dec/2023 07:56:42] \"GET /static/images/step4.jpeg HTTP/1.1\" 200 -\n",
      "127.0.0.1 - - [08/Dec/2023 07:56:42] \"GET /cart.json HTTP/1.1\" 404 -\n",
      "127.0.0.1 - - [08/Dec/2023 07:56:42] \"GET /images/home-bg2.jpg HTTP/1.1\" 404 -\n",
      "127.0.0.1 - - [08/Dec/2023 07:56:42] \"GET /favicon.ico HTTP/1.1\" 404 -\n",
      "c:\\Users\\m vishnu harsha\\anaconda3\\lib\\site-packages\\sklearn\\base.py:450: UserWarning: X does not have valid feature names, but RandomForestRegressor was fitted with feature names\n",
      "  warnings.warn(\n",
      "127.0.0.1 - - [08/Dec/2023 07:57:39] \"POST /predict HTTP/1.1\" 200 -\n",
      "127.0.0.1 - - [08/Dec/2023 07:57:39] \"GET /static/main.css HTTP/1.1\" 304 -\n",
      "127.0.0.1 - - [08/Dec/2023 07:57:39] \"GET /static/images/phones.png HTTP/1.1\" 304 -\n",
      "127.0.0.1 - - [08/Dec/2023 07:57:39] \"GET /static/images/step1.jpeg HTTP/1.1\" 304 -\n",
      "127.0.0.1 - - [08/Dec/2023 07:57:39] \"GET /static/images/step2.jpeg HTTP/1.1\" 304 -\n",
      "127.0.0.1 - - [08/Dec/2023 07:57:39] \"GET /static/images/step3.jpeg HTTP/1.1\" 304 -\n",
      "127.0.0.1 - - [08/Dec/2023 07:57:39] \"GET /static/images/step4.jpeg HTTP/1.1\" 304 -\n",
      "127.0.0.1 - - [08/Dec/2023 07:57:40] \"GET /cart.json HTTP/1.1\" 404 -\n",
      "127.0.0.1 - - [08/Dec/2023 07:57:40] \"GET /images/home-bg2.jpg HTTP/1.1\" 404 -\n",
      "127.0.0.1 - - [08/Dec/2023 08:00:47] \"GET / HTTP/1.1\" 200 -\n",
      "127.0.0.1 - - [08/Dec/2023 08:00:48] \"GET /static/images/phones.png HTTP/1.1\" 304 -\n",
      "127.0.0.1 - - [08/Dec/2023 08:00:48] \"GET /static/main.css HTTP/1.1\" 304 -\n",
      "127.0.0.1 - - [08/Dec/2023 08:00:48] \"GET /static/images/step1.jpeg HTTP/1.1\" 304 -\n",
      "127.0.0.1 - - [08/Dec/2023 08:00:48] \"GET /static/images/step2.jpeg HTTP/1.1\" 304 -\n",
      "127.0.0.1 - - [08/Dec/2023 08:00:48] \"GET /static/images/step3.jpeg HTTP/1.1\" 304 -\n",
      "127.0.0.1 - - [08/Dec/2023 08:00:48] \"GET /static/images/step4.jpeg HTTP/1.1\" 304 -\n",
      "127.0.0.1 - - [08/Dec/2023 08:00:48] \"GET /images/home-bg2.jpg HTTP/1.1\" 404 -\n",
      "127.0.0.1 - - [08/Dec/2023 08:00:49] \"GET /cart.json HTTP/1.1\" 404 -\n",
      "c:\\Users\\m vishnu harsha\\anaconda3\\lib\\site-packages\\sklearn\\base.py:450: UserWarning: X does not have valid feature names, but RandomForestRegressor was fitted with feature names\n",
      "  warnings.warn(\n",
      "127.0.0.1 - - [08/Dec/2023 08:02:55] \"POST /predict HTTP/1.1\" 200 -\n",
      "127.0.0.1 - - [08/Dec/2023 08:02:55] \"GET /static/main.css HTTP/1.1\" 304 -\n",
      "127.0.0.1 - - [08/Dec/2023 08:02:55] \"GET /static/images/phones.png HTTP/1.1\" 304 -\n",
      "127.0.0.1 - - [08/Dec/2023 08:02:55] \"GET /static/images/step1.jpeg HTTP/1.1\" 304 -\n",
      "127.0.0.1 - - [08/Dec/2023 08:02:55] \"GET /static/images/step2.jpeg HTTP/1.1\" 304 -\n",
      "127.0.0.1 - - [08/Dec/2023 08:02:55] \"GET /static/images/step3.jpeg HTTP/1.1\" 304 -\n",
      "127.0.0.1 - - [08/Dec/2023 08:02:55] \"GET /static/images/step4.jpeg HTTP/1.1\" 304 -\n",
      "127.0.0.1 - - [08/Dec/2023 08:02:55] \"GET /images/home-bg2.jpg HTTP/1.1\" 404 -\n",
      "127.0.0.1 - - [08/Dec/2023 08:02:55] \"GET /cart.json HTTP/1.1\" 404 -\n"
     ]
    }
   ],
   "source": [
    "if __name__ == '__main__':\n",
    "    app.run(debug=False)"
   ]
  },
  {
   "cell_type": "code",
   "execution_count": null,
   "id": "e65ced49-cc1e-4704-bcc0-19b11d584903",
   "metadata": {},
   "outputs": [],
   "source": []
  }
 ],
 "metadata": {
  "kernelspec": {
   "display_name": "Python 3 (ipykernel)",
   "language": "python",
   "name": "python3"
  },
  "language_info": {
   "codemirror_mode": {
    "name": "ipython",
    "version": 3
   },
   "file_extension": ".py",
   "mimetype": "text/x-python",
   "name": "python",
   "nbconvert_exporter": "python",
   "pygments_lexer": "ipython3",
   "version": "3.9.12"
  }
 },
 "nbformat": 4,
 "nbformat_minor": 5
}
